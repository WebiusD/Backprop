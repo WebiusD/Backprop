{
 "cells": [
  {
   "cell_type": "code",
   "execution_count": 1,
   "metadata": {},
   "outputs": [],
   "source": [
    "import math\n",
    "import numpy as np\n",
    "import matplotlib.pyplot as plt\n",
    "%matplotlib inline\n"
   ]
  },
  {
   "cell_type": "code",
   "execution_count": 2,
   "metadata": {},
   "outputs": [],
   "source": [
    "import code\n",
    "\n",
    "class Value:\n",
    "    \"\"\" stores a single scalar value and its gradient \"\"\"\n",
    "\n",
    "    def __init__(self, data, children=(), op='', label='', parent=None):\n",
    "        self.data = data\n",
    "        self.grad = 0\n",
    "        self.label = label\n",
    "\n",
    "        self._parent = parent\n",
    "        self._children = list(children)\n",
    "        self._op = op\n",
    "\n",
    "    def _eigen_to_parent_grad(self):\n",
    "        parent_op = self._parent._op\n",
    "        siblings = [child for child in self._parent if child != self]\n",
    "\n",
    "        if parent_op == '*':\n",
    "            result = math.prod([s.data for s in siblings])\n",
    "            \n",
    "            return result\n",
    "        if parent_op == '+':\n",
    "            # count how often self \n",
    "            return math.sum([1 if s==self else 0 for s in siblings]) + 1\n",
    "            \n",
    "    def backward(self):\n",
    "        if not self._parent:\n",
    "            # this is the root node, so it's gradient is 1:\n",
    "            self.grad = 1.0\n",
    "        else:\n",
    "            # internal or leaf-node:\n",
    "            self.grad = self._parent.grad * self._eigen_to_parent_grad()\n",
    "\n",
    "        # visit all child nodes:\n",
    "        for child in self._children:\n",
    "            child.backward()\n",
    "\n",
    "    def __rassign__(self, other):\n",
    "        v = Value(other.data, (self, ), '=')\n",
    "        other.parent = v\n",
    "        return v\n",
    "    \n",
    "    def __add__(self, other):\n",
    "        # other = other if isinstance(other, Value) else Value(other)\n",
    "        v = Value(self.data + other.data, (self, other), '+')\n",
    "        self.parent = v\n",
    "        other.parent = v\n",
    "        return v\n",
    "\n",
    "    def __mul__(self, other):\n",
    "        # other = other if isinstance(other, Value) else Value(other)\n",
    "        v = Value(self.data * other.data, (self, other), '*')\n",
    "        self.parent = v\n",
    "        other.parent = v\n",
    "        return v\n",
    "\n",
    "    # def relu(self):\n",
    "    #     v = Value(0 if self.data < 0 else self.data, (self,), 'ReLU')\n",
    "    #     self.parent = v\n",
    "    #     return v\n",
    "\n",
    "    # def __neg__(self): # -self\n",
    "    #     return self * -1\n",
    "\n",
    "    # def __radd__(self, other): # other + self\n",
    "    #     return self + other\n",
    "\n",
    "    # def __sub__(self, other): # self - other\n",
    "    #     return self + (-other)\n",
    "\n",
    "    # def __rsub__(self, other): # other - self\n",
    "    #     return other + (-self)\n",
    "\n",
    "    # def __rmul__(self, other): # other * self\n",
    "    #     return self * other\n",
    "\n",
    "    # def __truediv__(self, other): # self / other\n",
    "    #     return self * other**-1\n",
    "\n",
    "    # def __rtruediv__(self, other): # other / self\n",
    "    #     return other * self**-1\n",
    "\n",
    "    def __repr__(self):\n",
    "        return f\"Value(data={self.data}, grad={self.grad})\""
   ]
  },
  {
   "cell_type": "code",
   "execution_count": 5,
   "metadata": {},
   "outputs": [
    {
     "name": "stdout",
     "output_type": "stream",
     "text": [
      "L_grad=1.0, a_grad=1.0, b_grad=1.0, c_grad=1.0\n"
     ]
    }
   ],
   "source": [
    "a = Value(2.0, label='a')\n",
    "b = Value(-3.5, label='b')\n",
    "c = Value(1.0, label='d')\n",
    "\n",
    "L = a*b + c\n",
    "\n",
    "L.backward()\n",
    "\n",
    "print(f\"L_grad={L.grad}, a_grad={a.grad}, b_grad={b.grad}, c_grad={c.grad}\")\n"
   ]
  }
 ],
 "metadata": {
  "kernelspec": {
   "display_name": "Python 3",
   "language": "python",
   "name": "python3"
  },
  "language_info": {
   "codemirror_mode": {
    "name": "ipython",
    "version": 3
   },
   "file_extension": ".py",
   "mimetype": "text/x-python",
   "name": "python",
   "nbconvert_exporter": "python",
   "pygments_lexer": "ipython3",
   "version": "3.12.3"
  }
 },
 "nbformat": 4,
 "nbformat_minor": 2
}
